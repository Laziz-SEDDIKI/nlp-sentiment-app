{
 "cells": [
  {
   "cell_type": "code",
   "execution_count": 9,
   "id": "403122fe-8cdf-4fd0-9c2c-1b4805ba4aef",
   "metadata": {},
   "outputs": [
    {
     "name": "stdout",
     "output_type": "stream",
     "text": [
      "Le jeu de données d'entraînement a été chargé avec succès.\n",
      "Il contient 160000 critiques.\n"
     ]
    },
    {
     "data": {
      "text/html": [
       "<div>\n",
       "<style scoped>\n",
       "    .dataframe tbody tr th:only-of-type {\n",
       "        vertical-align: middle;\n",
       "    }\n",
       "\n",
       "    .dataframe tbody tr th {\n",
       "        vertical-align: top;\n",
       "    }\n",
       "\n",
       "    .dataframe thead th {\n",
       "        text-align: right;\n",
       "    }\n",
       "</style>\n",
       "<table border=\"1\" class=\"dataframe\">\n",
       "  <thead>\n",
       "    <tr style=\"text-align: right;\">\n",
       "      <th></th>\n",
       "      <th>Unnamed: 0</th>\n",
       "      <th>film-url</th>\n",
       "      <th>critique</th>\n",
       "      <th>sentiment</th>\n",
       "    </tr>\n",
       "  </thead>\n",
       "  <tbody>\n",
       "    <tr>\n",
       "      <th>0</th>\n",
       "      <td>0</td>\n",
       "      <td>http://www.allocine.fr/film/fichefilm-135259/c...</td>\n",
       "      <td>Si vous cherchez du cinéma abrutissant à tous ...</td>\n",
       "      <td>negatif</td>\n",
       "    </tr>\n",
       "    <tr>\n",
       "      <th>1</th>\n",
       "      <td>1</td>\n",
       "      <td>http://www.allocine.fr/film/fichefilm-172430/c...</td>\n",
       "      <td>Trash, re-trash et re-re-trash...! Une horreur...</td>\n",
       "      <td>negatif</td>\n",
       "    </tr>\n",
       "    <tr>\n",
       "      <th>2</th>\n",
       "      <td>2</td>\n",
       "      <td>http://www.allocine.fr/film/fichefilm-15105/cr...</td>\n",
       "      <td>Et si, dans les 5 premières minutes du film, l...</td>\n",
       "      <td>negatif</td>\n",
       "    </tr>\n",
       "    <tr>\n",
       "      <th>3</th>\n",
       "      <td>3</td>\n",
       "      <td>http://www.allocine.fr/film/fichefilm-188629/c...</td>\n",
       "      <td>Mon dieu ! Quelle métaphore filée ! Je suis ab...</td>\n",
       "      <td>negatif</td>\n",
       "    </tr>\n",
       "    <tr>\n",
       "      <th>4</th>\n",
       "      <td>4</td>\n",
       "      <td>http://www.allocine.fr/film/fichefilm-23514/cr...</td>\n",
       "      <td>Premier film de la saga Kozure Okami, \"Le Sabr...</td>\n",
       "      <td>positif</td>\n",
       "    </tr>\n",
       "  </tbody>\n",
       "</table>\n",
       "</div>"
      ],
      "text/plain": [
       "   Unnamed: 0                                           film-url  \\\n",
       "0           0  http://www.allocine.fr/film/fichefilm-135259/c...   \n",
       "1           1  http://www.allocine.fr/film/fichefilm-172430/c...   \n",
       "2           2  http://www.allocine.fr/film/fichefilm-15105/cr...   \n",
       "3           3  http://www.allocine.fr/film/fichefilm-188629/c...   \n",
       "4           4  http://www.allocine.fr/film/fichefilm-23514/cr...   \n",
       "\n",
       "                                            critique sentiment  \n",
       "0  Si vous cherchez du cinéma abrutissant à tous ...   negatif  \n",
       "1  Trash, re-trash et re-re-trash...! Une horreur...   negatif  \n",
       "2  Et si, dans les 5 premières minutes du film, l...   negatif  \n",
       "3  Mon dieu ! Quelle métaphore filée ! Je suis ab...   negatif  \n",
       "4  Premier film de la saga Kozure Okami, \"Le Sabr...   positif  "
      ]
     },
     "execution_count": 9,
     "metadata": {},
     "output_type": "execute_result"
    }
   ],
   "source": [
    "import pandas as pd\n",
    "\n",
    "# Le chemin pointe maintenant vers le fichier train.csv dans le dossier input/\n",
    "chemin_fichier = 'input/train.csv'\n",
    "\n",
    "# Charger le fichier CSV dans un DataFrame pandas\n",
    "donnees = pd.read_csv(chemin_fichier)\n",
    "\n",
    "# Renommer les colonnes pour plus de clarté\n",
    "donnees = donnees.rename(columns={'review': 'critique', 'polarity': 'sentiment'})\n",
    "\n",
    "# Transformer les 0/1 en 'negatif'/'positif'\n",
    "donnees['sentiment'] = donnees['sentiment'].map({0: 'negatif', 1: 'positif'})\n",
    "\n",
    "# Afficher les 5 premières lignes et la taille du jeu de données pour vérifier\n",
    "print(f\"Le jeu de données d'entraînement a été chargé avec succès.\")\n",
    "print(f\"Il contient {len(donnees)} critiques.\")\n",
    "donnees.head()"
   ]
  },
  {
   "cell_type": "code",
   "execution_count": 10,
   "id": "e48ddcc7-0c06-4e69-9b8a-67a612ec499c",
   "metadata": {},
   "outputs": [
    {
     "name": "stdout",
     "output_type": "stream",
     "text": [
      "Colonnes inutiles supprimées. Le DataFrame est maintenant plus propre :\n"
     ]
    },
    {
     "data": {
      "text/html": [
       "<div>\n",
       "<style scoped>\n",
       "    .dataframe tbody tr th:only-of-type {\n",
       "        vertical-align: middle;\n",
       "    }\n",
       "\n",
       "    .dataframe tbody tr th {\n",
       "        vertical-align: top;\n",
       "    }\n",
       "\n",
       "    .dataframe thead th {\n",
       "        text-align: right;\n",
       "    }\n",
       "</style>\n",
       "<table border=\"1\" class=\"dataframe\">\n",
       "  <thead>\n",
       "    <tr style=\"text-align: right;\">\n",
       "      <th></th>\n",
       "      <th>critique</th>\n",
       "      <th>sentiment</th>\n",
       "    </tr>\n",
       "  </thead>\n",
       "  <tbody>\n",
       "    <tr>\n",
       "      <th>0</th>\n",
       "      <td>Si vous cherchez du cinéma abrutissant à tous ...</td>\n",
       "      <td>negatif</td>\n",
       "    </tr>\n",
       "    <tr>\n",
       "      <th>1</th>\n",
       "      <td>Trash, re-trash et re-re-trash...! Une horreur...</td>\n",
       "      <td>negatif</td>\n",
       "    </tr>\n",
       "    <tr>\n",
       "      <th>2</th>\n",
       "      <td>Et si, dans les 5 premières minutes du film, l...</td>\n",
       "      <td>negatif</td>\n",
       "    </tr>\n",
       "    <tr>\n",
       "      <th>3</th>\n",
       "      <td>Mon dieu ! Quelle métaphore filée ! Je suis ab...</td>\n",
       "      <td>negatif</td>\n",
       "    </tr>\n",
       "    <tr>\n",
       "      <th>4</th>\n",
       "      <td>Premier film de la saga Kozure Okami, \"Le Sabr...</td>\n",
       "      <td>positif</td>\n",
       "    </tr>\n",
       "  </tbody>\n",
       "</table>\n",
       "</div>"
      ],
      "text/plain": [
       "                                            critique sentiment\n",
       "0  Si vous cherchez du cinéma abrutissant à tous ...   negatif\n",
       "1  Trash, re-trash et re-re-trash...! Une horreur...   negatif\n",
       "2  Et si, dans les 5 premières minutes du film, l...   negatif\n",
       "3  Mon dieu ! Quelle métaphore filée ! Je suis ab...   negatif\n",
       "4  Premier film de la saga Kozure Okami, \"Le Sabr...   positif"
      ]
     },
     "execution_count": 10,
     "metadata": {},
     "output_type": "execute_result"
    }
   ],
   "source": [
    "# Lister les colonnes à supprimer\n",
    "colonnes_a_supprimer = ['Unnamed: 0', 'film-url']\n",
    "\n",
    "# Utiliser la méthode .drop() pour les enlever\n",
    "# 'axis=1' signifie qu'on supprime des colonnes (axis=0 serait pour des lignes)\n",
    "# 'inplace=True' modifie directement notre DataFrame 'donnees' sans avoir besoin de faire donnees = ...\n",
    "donnees.drop(colonnes_a_supprimer, axis=1, inplace=True)\n",
    "\n",
    "# Afficher à nouveau les 5 premières lignes pour vérifier que les colonnes ont disparu\n",
    "print(\"Colonnes inutiles supprimées. Le DataFrame est maintenant plus propre :\")\n",
    "donnees.head()"
   ]
  },
  {
   "cell_type": "code",
   "execution_count": 11,
   "id": "f9ed632d-0241-4e92-8023-63481dd9969e",
   "metadata": {},
   "outputs": [
    {
     "data": {
      "image/png": "[encoded data removed]",
      "text/plain": [
       "<Figure size 800x500 with 1 Axes>"
      ]
     },
     "metadata": {},
     "output_type": "display_data"
    },
    {
     "name": "stdout",
     "output_type": "stream",
     "text": [
      "\n",
      "Chiffres exacts :\n",
      "sentiment\n",
      "positif    80587\n",
      "negatif    79413\n",
      "Name: count, dtype: int64\n"
     ]
    }
   ],
   "source": [
    "# Import des librairies de visualisation\n",
    "import matplotlib.pyplot as plt\n",
    "import seaborn as sns\n",
    "\n",
    "# Réglage du style\n",
    "sns.set_theme(style=\"whitegrid\")\n",
    "plt.figure(figsize=(8, 5))\n",
    "\n",
    "# --- LIGNE CORRIGÉE ---\n",
    "# On spécifie que la couleur (hue) dépend aussi de la colonne 'sentiment'\n",
    "# et on désactive la légende qui n'est pas nécessaire ici.\n",
    "sns.countplot(x='sentiment', data=donnees, hue='sentiment', palette=['#FF6347', '#32CD32'], order=['negatif', 'positif'], legend=False)\n",
    "# --------------------\n",
    "\n",
    "plt.title('Distribution des sentiments dans le jeu de données', fontsize=16)\n",
    "plt.xlabel('Sentiment', fontsize=12)\n",
    "plt.ylabel('Nombre de critiques', fontsize=12)\n",
    "plt.show()\n",
    "\n",
    "print(\"\\nChiffres exacts :\")\n",
    "print(donnees['sentiment'].value_counts())"
   ]
  },
  {
   "cell_type": "code",
   "execution_count": 12,
   "id": "103d7dd0-e696-439c-84e2-32e5afc7fd61",
   "metadata": {},
   "outputs": [
    {
     "name": "stdout",
     "output_type": "stream",
     "text": [
      "Requirement already satisfied: nltk in c:\\users\\lseddiki\\desktop\\nlp\\ml\\venv\\lib\\site-packages (3.9.1)\n",
      "Requirement already satisfied: click in c:\\users\\lseddiki\\desktop\\nlp\\ml\\venv\\lib\\site-packages (from nltk) (8.2.1)\n",
      "Requirement already satisfied: joblib in c:\\users\\lseddiki\\desktop\\nlp\\ml\\venv\\lib\\site-packages (from nltk) (1.5.1)\n",
      "Requirement already satisfied: regex>=2021.8.3 in c:\\users\\lseddiki\\desktop\\nlp\\ml\\venv\\lib\\site-packages (from nltk) (2024.11.6)\n",
      "Requirement already satisfied: tqdm in c:\\users\\lseddiki\\desktop\\nlp\\ml\\venv\\lib\\site-packages (from nltk) (4.67.1)\n",
      "Requirement already satisfied: colorama in c:\\users\\lseddiki\\desktop\\nlp\\ml\\venv\\lib\\site-packages (from click->nltk) (0.4.6)\n",
      "\n",
      "La liste des stop words a été téléchargée avec succès.\n"
     ]
    },
    {
     "name": "stderr",
     "output_type": "stream",
     "text": [
      "[nltk_data] Downloading package stopwords to\n",
      "[nltk_data]     C:\\Users\\lseddiki\\AppData\\Roaming\\nltk_data...\n",
      "[nltk_data]   Package stopwords is already up-to-date!\n"
     ]
    }
   ],
   "source": [
    "# Installer la librairie NLTK directement depuis le notebook\n",
    "import sys\n",
    "!{sys.executable} -m pip install nltk\n",
    "\n",
    "# Importer nltk et télécharger la liste des mots vides (stop words) pour le français\n",
    "import nltk\n",
    "nltk.download('stopwords')\n",
    "\n",
    "print(\"\\nLa liste des stop words a été téléchargée avec succès.\")"
   ]
  },
  {
   "cell_type": "code",
   "execution_count": 13,
   "id": "fd0528eb-9ca8-4b55-8719-807f3c0a7fca",
   "metadata": {},
   "outputs": [
    {
     "name": "stdout",
     "output_type": "stream",
     "text": [
      "--- CRITIQUE ORIGINALE ---\n",
      "Si vous cherchez du cinéma abrutissant à tous les étages,n'ayant aucune peur du cliché en castagnettes et moralement douteux,\"From Paris with love\" est fait pour vous.Toutes les productions Besson,via sa filière EuropaCorp ont de quoi faire naître la moquerie.Paris y est encore une fois montrée comme une capitale exotique,mais attention si l'on se dirige vers la banlieue,on y trouve tout plein d'intégristes musulmans prêts à faire sauter le caisson d'une ambassadrice américaine.Nauséeux.Alors on se dit qu'on va au moins pouvoir apprécier la déconnade d'un classique buddy-movie avec le jeune agent aux dents longues obligé de faire équipe avec un vieux lou complètement timbré.Mais d'un côté,on a un Jonathan Rhys-meyers fayot au possible,et de l'autre un John Travolta en total délire narcissico-badass,crâne rasé et bouc proéminent à l'appui.Sinon,il n'y a aucun scénario.Seulement,des poursuites débiles sur l'autoroute,Travolta qui étale 10 mecs à l'arme blanche en 8 mouvements(!!)ou laisse son associé se faire démolir la tronche pendant qu'il scrute à la jumelle.Ca pourrait être un plaisir coupable,tellement c'est \"hénaurme\",c'est juste de la daube dans la droite lignée d'un \"Transporteur\",\"Taken\"ou \"Banlieue 13\".\n",
      "\n",
      "--- CRITIQUE NETTOYÉE (AVEC V2) ---\n",
      "si cherchez cinéma abrutissant tous étages n'ayant aucune peur cliché castagnettes moralement douteux from paris with love fait toutes productions besson via filière europacorp quoi faire naître moquerie paris encore fois montrée comme capitale exotique attention si l'on dirige vers banlieue trouve tout plein d'intégristes musulmans prêts faire sauter caisson d'une ambassadrice américaine nauséeux alors dit qu'on va moins pouvoir apprécier déconnade d'un classique buddy movie jeune agent dents longues obligé faire équipe vieux lou complètement timbré d'un côté a jonathan rhys meyers fayot possible l'autre john travolta total délire narcissico badass crâne rasé bouc proéminent l'appui sinon n'y a aucun scénario seulement poursuites débiles l'autoroute travolta étale 10 mecs l'arme blanche 8 mouvements laisse associé faire démolir tronche pendant qu'il scrute jumelle ca pourrait être plaisir coupable tellement c'est hénaurme c'est juste daube droite lignée d'un transporteur taken banlieue 13\n"
     ]
    }
   ],
   "source": [
    "import string\n",
    "from nltk.corpus import stopwords\n",
    "\n",
    "# Récupérer la liste des stop words français\n",
    "stop_words_francais = set(stopwords.words('french'))\n",
    "\n",
    "# On retire certains mots de la liste des stopwords car ils sont importants pour le sentiment.\n",
    "mots_a_garder = {'pas', 'ne', 'plus', 'bien', 'trop', 'très'}\n",
    "stop_words_francais = stop_words_francais - mots_a_garder\n",
    "\n",
    "# On récupère la ponctuation de base, mais on lui dit de NE PAS supprimer l'apostrophe\n",
    "ponctuation_a_supprimer = string.punctuation.replace(\"'\", \"\")\n",
    "\n",
    "\n",
    "\n",
    "def nettoyer_texte_v2(texte):\n",
    "    \"\"\"\n",
    "    Cette fonction AMÉLIORÉE prend un texte en entrée et retourne une version nettoyée :\n",
    "    1. Tout en minuscules.\n",
    "    2. Remplace la ponctuation (sauf apostrophe) par des espaces pour ne pas coller les mots.\n",
    "    3. Supprime les stop words français.\n",
    "    \"\"\"\n",
    "    # 1. Mettre en minuscules\n",
    "    texte = texte.lower()\n",
    "    \n",
    "    # 2. Remplacer chaque signe de ponctuation par un espace\n",
    "    for char in ponctuation_a_supprimer:\n",
    "        texte = texte.replace(char, ' ') # <-- Le changement clé est ici !\n",
    "    \n",
    "    # 3. Supprimer les stop words\n",
    "    mots = texte.split()\n",
    "    mots_filtres = [mot for mot in mots if mot not in stop_words_francais]\n",
    "    \n",
    "    # On ré-assemble la liste de mots filtrés en une seule chaîne de caractères\n",
    "    texte_nettoye = \" \".join(mots_filtres)\n",
    "    \n",
    "    return texte_nettoye\n",
    "\n",
    "# --- TESTONS NOTRE NOUVELLE FONCTION ---\n",
    "critique_test = donnees['critique'].iloc[0] # On prend la même critique\n",
    "print(\"--- CRITIQUE ORIGINALE ---\")\n",
    "print(critique_test)\n",
    "print(\"\\n--- CRITIQUE NETTOYÉE (AVEC V2) ---\")\n",
    "print(nettoyer_texte_v2(critique_test))"
   ]
  },
  {
   "cell_type": "code",
   "execution_count": 14,
   "id": "eeeaa387-f49c-4614-adfe-5f003033e2e7",
   "metadata": {},
   "outputs": [
    {
     "name": "stdout",
     "output_type": "stream",
     "text": [
      "Chargement des 3 jeux de données...\n",
      "Train: 160000, Validation: 20000, Test: 20000 critiques chargées.\n",
      "\n",
      "Nettoyage du jeu d'entraînement...\n"
     ]
    },
    {
     "name": "stderr",
     "output_type": "stream",
     "text": [
      "100%|██████████████████████████████████████████████████████████████████████████████████| 160000/160000 [00:12<00:00, 12636.02it/s]\n"
     ]
    },
    {
     "name": "stdout",
     "output_type": "stream",
     "text": [
      "Nettoyage du jeu de validation...\n"
     ]
    },
    {
     "name": "stderr",
     "output_type": "stream",
     "text": [
      "100%|████████████████████████████████████████████████████████████████████████████████████| 20000/20000 [00:01<00:00, 17146.43it/s]\n"
     ]
    },
    {
     "name": "stdout",
     "output_type": "stream",
     "text": [
      "Nettoyage du jeu de test...\n"
     ]
    },
    {
     "name": "stderr",
     "output_type": "stream",
     "text": [
      "100%|████████████████████████████████████████████████████████████████████████████████████| 20000/20000 [00:01<00:00, 11828.11it/s]\n"
     ]
    },
    {
     "name": "stdout",
     "output_type": "stream",
     "text": [
      "\n",
      "Données prêtes pour la vectorisation.\n",
      "\n",
      "Entraînement du vectoriseur sur les données d'entraînement...\n",
      "Transformation des données de validation...\n",
      "Transformation des données de test...\n",
      "\n",
      "Vectorisation terminée.\n",
      "Format Train: (160000, 5000)\n",
      "Format Validation: (20000, 5000)\n",
      "Format Test: (20000, 5000)\n"
     ]
    }
   ],
   "source": [
    "import pandas as pd\n",
    "from sklearn.feature_extraction.text import TfidfVectorizer\n",
    "from tqdm.auto import tqdm\n",
    "tqdm.pandas()\n",
    "\n",
    "# --- 1. CHARGEMENT DES DONNÉES ---\n",
    "print(\"Chargement des 3 jeux de données...\")\n",
    "train_df = pd.read_csv('input/train.csv')\n",
    "valid_df = pd.read_csv('input/valid.csv')\n",
    "test_df = pd.read_csv('input/test.csv')\n",
    "\n",
    "print(f\"Train: {len(train_df)}, Validation: {len(valid_df)}, Test: {len(test_df)} critiques chargées.\")\n",
    "\n",
    "# --- 2. NETTOYAGE DES 3 DATASETS ---\n",
    "# Nous appliquons notre fonction `nettoyer_texte_v2` (définie précédemment) à chaque dataset.\n",
    "# Il est CRUCIAL que le nettoyage soit identique pour tous.\n",
    "\n",
    "print(\"\\nNettoyage du jeu d'entraînement...\")\n",
    "train_df['critique_nettoyee'] = train_df['review'].progress_apply(nettoyer_texte_v2)\n",
    "\n",
    "print(\"Nettoyage du jeu de validation...\")\n",
    "valid_df['critique_nettoyee'] = valid_df['review'].progress_apply(nettoyer_texte_v2)\n",
    "\n",
    "print(\"Nettoyage du jeu de test...\")\n",
    "test_df['critique_nettoyee'] = test_df['review'].progress_apply(nettoyer_texte_v2)\n",
    "\n",
    "# --- 3. DÉFINITION DES X (critiques) et y (sentiments) ---\n",
    "X_train = train_df['critique_nettoyee']\n",
    "y_train = train_df['polarity'].map({0: 'negatif', 1: 'positif'}) # On fait le mapping ici\n",
    "\n",
    "X_valid = valid_df['critique_nettoyee']\n",
    "y_valid = valid_df['polarity'].map({0: 'negatif', 1: 'positif'})\n",
    "\n",
    "X_test = test_df['critique_nettoyee']\n",
    "y_test = test_df['polarity'].map({0: 'negatif', 1: 'positif'})\n",
    "\n",
    "print(\"\\nDonnées prêtes pour la vectorisation.\")\n",
    "\n",
    "# --- 4. VECTORISATION TF-IDF (la bonne méthode) ---\n",
    "vectorizer = TfidfVectorizer(max_features=5000, ngram_range=(1, 2))\n",
    "\n",
    "# On ENTRAÎNE (fit) le vectoriseur UNIQUEMENT sur les données d'entraînement.\n",
    "print(\"\\nEntraînement du vectoriseur sur les données d'entraînement...\")\n",
    "X_train_vect = vectorizer.fit_transform(X_train)\n",
    "\n",
    "# On applique ensuite cette transformation aux autres jeux de données.\n",
    "print(\"Transformation des données de validation...\")\n",
    "X_valid_vect = vectorizer.transform(X_valid)\n",
    "\n",
    "print(\"Transformation des données de test...\")\n",
    "X_test_vect = vectorizer.transform(X_test)\n",
    "\n",
    "print(\"\\nVectorisation terminée.\")\n",
    "print(f\"Format Train: {X_train_vect.shape}\")\n",
    "print(f\"Format Validation: {X_valid_vect.shape}\")\n",
    "print(f\"Format Test: {X_test_vect.shape}\")\n"
   ]
  },
  {
   "cell_type": "code",
   "execution_count": 15,
   "id": "9f42d227-5c7e-4f5d-a098-73b2f528552b",
   "metadata": {},
   "outputs": [
    {
     "name": "stdout",
     "output_type": "stream",
     "text": [
      "Entraînement du modèle de Régression Logistique...\n",
      "Entraînement terminé.\n",
      "\n",
      "Évaluation sur l'ensemble de validation...\n",
      "\n",
      "Précision (Accuracy) sur la validation : 0.9271\n",
      "\n",
      "Rapport de classification sur la validation :\n",
      "              precision    recall  f1-score   support\n",
      "\n",
      "     negatif       0.94      0.92      0.93     10204\n",
      "     positif       0.92      0.93      0.93      9796\n",
      "\n",
      "    accuracy                           0.93     20000\n",
      "   macro avg       0.93      0.93      0.93     20000\n",
      "weighted avg       0.93      0.93      0.93     20000\n",
      "\n",
      "Matrice de confusion sur la validation :\n"
     ]
    },
    {
     "data": {
      "image/png": "[encoded data removed]",
      "text/plain": [
       "<Figure size 800x600 with 2 Axes>"
      ]
     },
     "metadata": {},
     "output_type": "display_data"
    }
   ],
   "source": [
    "from sklearn.linear_model import LogisticRegression\n",
    "from sklearn.metrics import classification_report, confusion_matrix, accuracy_score\n",
    "import seaborn as sns\n",
    "import matplotlib.pyplot as plt\n",
    "\n",
    "# 1. Création et entraînement du modèle\n",
    "print(\"Entraînement du modèle de Régression Logistique...\")\n",
    "model = LogisticRegression(max_iter=1000) # max_iter=1000 pour être sûr qu'il a le temps de converger\n",
    "model.fit(X_train_vect, y_train)\n",
    "print(\"Entraînement terminé.\")\n",
    "\n",
    "# 2. Faire des prédictions sur l'ensemble de VALIDATION\n",
    "print(\"\\nÉvaluation sur l'ensemble de validation...\")\n",
    "y_pred_valid = model.predict(X_valid_vect)\n",
    "\n",
    "# 3. Afficher les performances\n",
    "# Accuracy\n",
    "accuracy = accuracy_score(y_valid, y_pred_valid)\n",
    "print(f\"\\nPrécision (Accuracy) sur la validation : {accuracy:.4f}\") # Affiche avec 4 chiffres après la virgule\n",
    "\n",
    "# Rapport de classification\n",
    "print(\"\\nRapport de classification sur la validation :\")\n",
    "print(classification_report(y_valid, y_pred_valid, target_names=['negatif', 'positif']))\n",
    "\n",
    "# Matrice de confusion\n",
    "print(\"Matrice de confusion sur la validation :\")\n",
    "cm = confusion_matrix(y_valid, y_pred_valid)\n",
    "plt.figure(figsize=(8, 6))\n",
    "sns.heatmap(cm, annot=True, fmt='d', cmap='Blues', xticklabels=['negatif', 'positif'], yticklabels=['negatif', 'positif'])\n",
    "plt.xlabel('Prédiction')\n",
    "plt.ylabel('Vraie valeur')\n",
    "plt.title('Matrice de Confusion - Validation')\n",
    "plt.show()\n"
   ]
  },
  {
   "cell_type": "code",
   "execution_count": 16,
   "id": "73997bb6-929a-4f35-895c-c3769bf175e8",
   "metadata": {},
   "outputs": [
    {
     "name": "stdout",
     "output_type": "stream",
     "text": [
      "Évaluation finale sur l'ensemble de test...\n",
      "\n",
      "Précision FINALE (Accuracy) sur le test : 0.9280\n",
      "\n",
      "Rapport de classification FINAL sur le test :\n",
      "              precision    recall  f1-score   support\n",
      "\n",
      "     negatif       0.93      0.93      0.93     10408\n",
      "     positif       0.92      0.93      0.93      9592\n",
      "\n",
      "    accuracy                           0.93     20000\n",
      "   macro avg       0.93      0.93      0.93     20000\n",
      "weighted avg       0.93      0.93      0.93     20000\n",
      "\n",
      "Matrice de confusion FINALE sur le test :\n"
     ]
    },
    {
     "data": {
      "image/png": "[encoded data removed]",
      "text/plain": [
       "<Figure size 800x600 with 2 Axes>"
      ]
     },
     "metadata": {},
     "output_type": "display_data"
    }
   ],
   "source": [
    "# Faire des prédictions sur l'ensemble de TEST\n",
    "print(\"Évaluation finale sur l'ensemble de test...\")\n",
    "y_pred_test = model.predict(X_test_vect)\n",
    "\n",
    "# Afficher les performances finales\n",
    "accuracy_test = accuracy_score(y_test, y_pred_test)\n",
    "print(f\"\\nPrécision FINALE (Accuracy) sur le test : {accuracy_test:.4f}\")\n",
    "\n",
    "print(\"\\nRapport de classification FINAL sur le test :\")\n",
    "print(classification_report(y_test, y_pred_test, target_names=['negatif', 'positif']))\n",
    "\n",
    "print(\"Matrice de confusion FINALE sur le test :\")\n",
    "cm_test = confusion_matrix(y_test, y_pred_test)\n",
    "plt.figure(figsize=(8, 6))\n",
    "sns.heatmap(cm_test, annot=True, fmt='d', cmap='Greens', xticklabels=['negatif', 'positif'], yticklabels=['negatif', 'positif'])\n",
    "plt.xlabel('Prédiction')\n",
    "plt.ylabel('Vraie valeur')\n",
    "plt.title('Matrice de Confusion - Test Final')\n",
    "plt.show()"
   ]
  },
  {
   "cell_type": "code",
   "execution_count": 17,
   "id": "594c13cd-b286-44cb-a1a9-3a74c7bad11e",
   "metadata": {},
   "outputs": [
    {
     "name": "stdout",
     "output_type": "stream",
     "text": [
      "Modèle sauvegardé dans : saved_models\\sentiment_model.joblib\n",
      "Vectoriseur sauvegardé dans : saved_models\\tfidf_vectorizer.joblib\n"
     ]
    }
   ],
   "source": [
    "import joblib\n",
    "import os\n",
    "\n",
    "# Créer un dossier pour sauvegarder les modèles s'il n'existe pas\n",
    "output_dir = 'saved_models'\n",
    "os.makedirs(output_dir, exist_ok=True)\n",
    "\n",
    "# Sauvegarder le modèle entraîné\n",
    "path_model = os.path.join(output_dir, 'sentiment_model.joblib')\n",
    "joblib.dump(model, path_model)\n",
    "\n",
    "# Sauvegarder le vectoriseur\n",
    "path_vectorizer = os.path.join(output_dir, 'tfidf_vectorizer.joblib')\n",
    "joblib.dump(vectorizer, path_vectorizer)\n",
    "\n",
    "print(f\"Modèle sauvegardé dans : {path_model}\")\n",
    "print(f\"Vectoriseur sauvegardé dans : {path_vectorizer}\")"
   ]
  },
  {
   "cell_type": "code",
   "execution_count": null,
   "id": "bc28b8e7-e561-4994-8eea-a1b64f970170",
   "metadata": {},
   "outputs": [],
   "source": []
  }
 ],
 "metadata": {
  "kernelspec": {
   "display_name": "Python 3 (ipykernel)",
   "language": "python",
   "name": "python3"
  },
  "language_info": {
   "codemirror_mode": {
    "name": "ipython",
    "version": 3
   },
   "file_extension": ".py",
   "mimetype": "text/x-python",
   "name": "python",
   "nbconvert_exporter": "python",
   "pygments_lexer": "ipython3",
   "version": "3.13.1"
  }
 },
 "nbformat": 4,
 "nbformat_minor": 5
}
